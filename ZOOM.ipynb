{
  "nbformat": 4,
  "nbformat_minor": 0,
  "metadata": {
    "colab": {
      "name": "ZOOM.ipynb",
      "provenance": [],
      "collapsed_sections": [],
      "authorship_tag": "ABX9TyN6EsEc1bZ6atybbbTaGt4G",
      "include_colab_link": true
    },
    "kernelspec": {
      "name": "python3",
      "display_name": "Python 3"
    },
    "language_info": {
      "name": "python"
    }
  },
  "cells": [
    {
      "cell_type": "markdown",
      "metadata": {
        "id": "view-in-github",
        "colab_type": "text"
      },
      "source": [
        "<a href=\"https://colab.research.google.com/github/tomatozoo/data_visualization/blob/main/ZOOM.ipynb\" target=\"_parent\"><img src=\"https://colab.research.google.com/assets/colab-badge.svg\" alt=\"Open In Colab\"/></a>"
      ]
    },
    {
      "cell_type": "markdown",
      "source": [
        "## ZOOM\n",
        "\n",
        "* 멘토/멘티 발화 비율\n",
        "* WordCloud"
      ],
      "metadata": {
        "id": "c9BvUanazgoY"
      }
    },
    {
      "cell_type": "markdown",
      "source": [
        "# Setting "
      ],
      "metadata": {
        "id": "KOSuNcEizkPB"
      }
    },
    {
      "cell_type": "code",
      "source": [
        "# install modules\n",
        "%pip install stylecloud\n",
        "\n",
        "# import modules\n",
        "import pandas as pd\n",
        "import matplotlib.pyplot as plt\n",
        "from wordcloud import WordCloud\n",
        "from matplotlib import font_manager, rc\n",
        "font_path = \"/content/malgun.ttf\"\n",
        "font = font_manager.FontProperties(fname=font_path).get_name()\n",
        "rc('font', family=font)\n",
        "from PIL import Image\n",
        "import numpy as np\n",
        "import matplotlib.image as img\n",
        "import os, sys, re\n",
        "import gensim\n",
        "import gensim.models\n",
        "from matplotlib.pyplot import cm\n",
        "\n"
      ],
      "metadata": {
        "colab": {
          "base_uri": "https://localhost:8080/"
        },
        "id": "W-IjiSHLA1FS",
        "outputId": "61f683e3-1eaa-40c6-c14a-c414a5dcedf6"
      },
      "execution_count": 4,
      "outputs": [
        {
          "output_type": "stream",
          "name": "stdout",
          "text": [
            "Requirement already satisfied: stylecloud in /usr/local/lib/python3.7/dist-packages (0.5.2)\n",
            "Requirement already satisfied: wordcloud in /usr/local/lib/python3.7/dist-packages (from stylecloud) (1.5.0)\n",
            "Requirement already satisfied: fire in /usr/local/lib/python3.7/dist-packages (from stylecloud) (0.4.0)\n",
            "Requirement already satisfied: matplotlib in /root/.local/lib/python3.7/site-packages (from stylecloud) (3.5.1)\n",
            "Requirement already satisfied: icon-font-to-png in /usr/local/lib/python3.7/dist-packages (from stylecloud) (0.4.1)\n",
            "Requirement already satisfied: palettable in /usr/local/lib/python3.7/dist-packages (from stylecloud) (3.3.0)\n",
            "Requirement already satisfied: termcolor in /usr/local/lib/python3.7/dist-packages (from fire->stylecloud) (1.1.0)\n",
            "Requirement already satisfied: six in /usr/local/lib/python3.7/dist-packages (from fire->stylecloud) (1.15.0)\n",
            "Requirement already satisfied: requests>=2.12.5 in /usr/local/lib/python3.7/dist-packages (from icon-font-to-png->stylecloud) (2.23.0)\n",
            "Requirement already satisfied: tinycss>=0.4 in /usr/local/lib/python3.7/dist-packages (from icon-font-to-png->stylecloud) (0.4)\n",
            "Requirement already satisfied: Pillow>=4.0.0 in /usr/local/lib/python3.7/dist-packages (from icon-font-to-png->stylecloud) (7.1.2)\n",
            "Requirement already satisfied: urllib3!=1.25.0,!=1.25.1,<1.26,>=1.21.1 in /usr/local/lib/python3.7/dist-packages (from requests>=2.12.5->icon-font-to-png->stylecloud) (1.24.3)\n",
            "Requirement already satisfied: certifi>=2017.4.17 in /usr/local/lib/python3.7/dist-packages (from requests>=2.12.5->icon-font-to-png->stylecloud) (2021.10.8)\n",
            "Requirement already satisfied: idna<3,>=2.5 in /usr/local/lib/python3.7/dist-packages (from requests>=2.12.5->icon-font-to-png->stylecloud) (2.10)\n",
            "Requirement already satisfied: chardet<4,>=3.0.2 in /usr/local/lib/python3.7/dist-packages (from requests>=2.12.5->icon-font-to-png->stylecloud) (3.0.4)\n",
            "Requirement already satisfied: kiwisolver>=1.0.1 in /usr/local/lib/python3.7/dist-packages (from matplotlib->stylecloud) (1.3.2)\n",
            "Requirement already satisfied: cycler>=0.10 in /usr/local/lib/python3.7/dist-packages (from matplotlib->stylecloud) (0.11.0)\n",
            "Requirement already satisfied: numpy>=1.17 in /usr/local/lib/python3.7/dist-packages (from matplotlib->stylecloud) (1.19.5)\n",
            "Requirement already satisfied: python-dateutil>=2.7 in /usr/local/lib/python3.7/dist-packages (from matplotlib->stylecloud) (2.8.2)\n",
            "Requirement already satisfied: packaging>=20.0 in /usr/local/lib/python3.7/dist-packages (from matplotlib->stylecloud) (21.3)\n",
            "Requirement already satisfied: fonttools>=4.22.0 in /root/.local/lib/python3.7/site-packages (from matplotlib->stylecloud) (4.28.5)\n",
            "Requirement already satisfied: pyparsing>=2.2.1 in /usr/local/lib/python3.7/dist-packages (from matplotlib->stylecloud) (3.0.6)\n"
          ]
        }
      ]
    },
    {
      "cell_type": "markdown",
      "source": [
        "### Mecab"
      ],
      "metadata": {
        "id": "caT9P7oJ19aZ"
      }
    },
    {
      "cell_type": "code",
      "source": [
        "%%bash \n",
        "apt-get update\n",
        "apt-get install g++ openjdk-8-jdk python-dev python3-dev\n",
        "pip3 install JPype1\n",
        "pip3 install konlpy"
      ],
      "metadata": {
        "colab": {
          "base_uri": "https://localhost:8080/"
        },
        "id": "hkg5FXsSeaNt",
        "outputId": "ec68806e-ad58-4da2-aee3-7672309503d2"
      },
      "execution_count": 5,
      "outputs": [
        {
          "output_type": "stream",
          "name": "stdout",
          "text": [
            "Get:1 http://security.ubuntu.com/ubuntu bionic-security InRelease [88.7 kB]\n",
            "Hit:2 https://cloud.r-project.org/bin/linux/ubuntu bionic-cran40/ InRelease\n",
            "Ign:3 https://developer.download.nvidia.com/compute/cuda/repos/ubuntu1804/x86_64  InRelease\n",
            "Get:4 http://ppa.launchpad.net/c2d4u.team/c2d4u4.0+/ubuntu bionic InRelease [15.9 kB]\n",
            "Ign:5 https://developer.download.nvidia.com/compute/machine-learning/repos/ubuntu1804/x86_64  InRelease\n",
            "Hit:6 https://developer.download.nvidia.com/compute/cuda/repos/ubuntu1804/x86_64  Release\n",
            "Hit:7 http://archive.ubuntu.com/ubuntu bionic InRelease\n",
            "Hit:8 https://developer.download.nvidia.com/compute/machine-learning/repos/ubuntu1804/x86_64  Release\n",
            "Get:9 http://archive.ubuntu.com/ubuntu bionic-updates InRelease [88.7 kB]\n",
            "Hit:10 http://ppa.launchpad.net/cran/libgit2/ubuntu bionic InRelease\n",
            "Hit:11 http://ppa.launchpad.net/deadsnakes/ppa/ubuntu bionic InRelease\n",
            "Get:12 http://archive.ubuntu.com/ubuntu bionic-backports InRelease [74.6 kB]\n",
            "Hit:13 http://ppa.launchpad.net/graphics-drivers/ppa/ubuntu bionic InRelease\n",
            "Get:15 http://ppa.launchpad.net/c2d4u.team/c2d4u4.0+/ubuntu bionic/main Sources [1,823 kB]\n",
            "Get:17 http://ppa.launchpad.net/c2d4u.team/c2d4u4.0+/ubuntu bionic/main amd64 Packages [934 kB]\n",
            "Fetched 3,025 kB in 3s (1,195 kB/s)\n",
            "Reading package lists...\n",
            "Reading package lists...\n",
            "Building dependency tree...\n",
            "Reading state information...\n",
            "python-dev is already the newest version (2.7.15~rc1-1).\n",
            "g++ is already the newest version (4:7.4.0-1ubuntu2.3).\n",
            "python3-dev is already the newest version (3.6.7-1~18.04).\n",
            "openjdk-8-jdk is already the newest version (8u312-b07-0ubuntu1~18.04).\n",
            "0 upgraded, 0 newly installed, 0 to remove and 55 not upgraded.\n",
            "Requirement already satisfied: JPype1 in /usr/local/lib/python3.7/dist-packages (1.3.0)\n",
            "Requirement already satisfied: typing-extensions in /usr/local/lib/python3.7/dist-packages (from JPype1) (3.10.0.2)\n",
            "Requirement already satisfied: konlpy in /usr/local/lib/python3.7/dist-packages (0.6.0)\n",
            "Requirement already satisfied: JPype1>=0.7.0 in /usr/local/lib/python3.7/dist-packages (from konlpy) (1.3.0)\n",
            "Requirement already satisfied: numpy>=1.6 in /usr/local/lib/python3.7/dist-packages (from konlpy) (1.19.5)\n",
            "Requirement already satisfied: lxml>=4.1.0 in /usr/local/lib/python3.7/dist-packages (from konlpy) (4.2.6)\n",
            "Requirement already satisfied: typing-extensions in /usr/local/lib/python3.7/dist-packages (from JPype1>=0.7.0->konlpy) (3.10.0.2)\n"
          ]
        }
      ]
    },
    {
      "cell_type": "code",
      "source": [
        "%env JAVA_HOME \"/usr/lib/jvm/java-8-openjdk-amd64\""
      ],
      "metadata": {
        "colab": {
          "base_uri": "https://localhost:8080/"
        },
        "id": "LCWeTsFz9xFR",
        "outputId": "50c03c47-686c-4fb5-fd42-6608e166c7b2"
      },
      "execution_count": 6,
      "outputs": [
        {
          "output_type": "stream",
          "name": "stdout",
          "text": [
            "env: JAVA_HOME=\"/usr/lib/jvm/java-8-openjdk-amd64\"\n"
          ]
        }
      ]
    },
    {
      "cell_type": "code",
      "source": [
        "%%bash\n",
        "bash <(curl -s https://raw.githubusercontent.com/konlpy/konlpy/master/scripts/mecab.sh)\n",
        "pip3 install /tmp/mecab-python-0.996"
      ],
      "metadata": {
        "colab": {
          "base_uri": "https://localhost:8080/"
        },
        "id": "t6hsD8Qs90o9",
        "outputId": "0f4d41f8-2b7f-4a75-c179-cf45646bc78a"
      },
      "execution_count": 7,
      "outputs": [
        {
          "output_type": "stream",
          "name": "stdout",
          "text": [
            "mecab-ko is already installed\n",
            "mecab-ko-dic is already installed\n",
            "mecab-python is already installed\n",
            "Done.\n",
            "Processing /tmp/mecab-python-0.996\n",
            "Building wheels for collected packages: mecab-python\n",
            "  Building wheel for mecab-python (setup.py): started\n",
            "  Building wheel for mecab-python (setup.py): finished with status 'done'\n",
            "  Created wheel for mecab-python: filename=mecab_python-0.996_ko_0.9.2-cp37-cp37m-linux_x86_64.whl size=141808 sha256=d3c3abe8f1804ba2abbea15a70961377189f7d8823430a3802c9e5f61017f534\n",
            "  Stored in directory: /root/.cache/pip/wheels/40/7b/9f/2922869bef86c3354ae7034f7a3647c573ee1997c2dad0290a\n",
            "Failed to build mecab-python\n",
            "Installing collected packages: mecab-python\n",
            "  Attempting uninstall: mecab-python\n",
            "    Found existing installation: mecab-python 0.996-ko-0.9.2\n",
            "    Uninstalling mecab-python-0.996-ko-0.9.2:\n",
            "      Successfully uninstalled mecab-python-0.996-ko-0.9.2\n",
            "    Running setup.py install for mecab-python: started\n",
            "    Running setup.py install for mecab-python: finished with status 'done'\n",
            "Successfully installed mecab-python-0.996-ko-0.9.2\n"
          ]
        },
        {
          "output_type": "stream",
          "name": "stderr",
          "text": [
            "  DEPRECATION: A future pip version will change local packages to be built in-place without first copying to a temporary directory. We recommend you use --use-feature=in-tree-build to test your packages with this new behavior before it becomes the default.\n",
            "   pip 21.3 will remove support for this functionality. You can find discussion regarding this at https://github.com/pypa/pip/issues/7555.\n",
            "  WARNING: Built wheel for mecab-python is invalid: Metadata 1.2 mandates PEP 440 version, but '0.996-ko-0.9.2' is not\n",
            "  DEPRECATION: mecab-python was installed using the legacy 'setup.py install' method, because a wheel could not be built for it. A possible replacement is to fix the wheel build issue reported above. You can find discussion regarding this at https://github.com/pypa/pip/issues/8368.\n"
          ]
        }
      ]
    },
    {
      "cell_type": "code",
      "source": [
        "import konlpy\n",
        "from konlpy.tag import Kkma, Komoran, Hannanum, Okt\n",
        "from konlpy.utils import pprint\n",
        "from konlpy.tag import Mecab"
      ],
      "metadata": {
        "id": "dbwKVlDMehw8"
      },
      "execution_count": 8,
      "outputs": []
    },
    {
      "cell_type": "code",
      "source": [
        "cd /tmp/mecab-ko-dic-2.1.1-20180720"
      ],
      "metadata": {
        "colab": {
          "base_uri": "https://localhost:8080/"
        },
        "id": "YNICj3Vq9_rq",
        "outputId": "e2cbdabf-c9c9-45d4-97f8-3dd19dc811ef"
      },
      "execution_count": 9,
      "outputs": [
        {
          "output_type": "stream",
          "name": "stdout",
          "text": [
            "/tmp/mecab-ko-dic-2.1.1-20180720\n"
          ]
        }
      ]
    },
    {
      "cell_type": "code",
      "source": [
        "ls user-dic"
      ],
      "metadata": {
        "colab": {
          "base_uri": "https://localhost:8080/"
        },
        "id": "nbhEEye_-CVj",
        "outputId": "fe04e551-7b6b-4ac5-b519-d867d2ba7225"
      },
      "execution_count": 10,
      "outputs": [
        {
          "output_type": "stream",
          "name": "stdout",
          "text": [
            "nnp.csv  person.csv  place.csv  README.md\n"
          ]
        }
      ]
    },
    {
      "cell_type": "code",
      "source": [
        "with open(\"./user-dic/nnp.csv\", 'r', encoding='utf-8') as f:\n",
        "  file_data = f.readlines()\n",
        "\n",
        "# 추가할 단어\n",
        "word_list = [\"스누로\", \"서울대\", \"스누링커\", \"스누씨드\", \"멘토\", \"멘티\", \"자기이해\", \"학습분석\", \"데이터\", \"쌤\", \"샤\"]\n",
        "!pip install jamo\n",
        "from jamo import h2j, j2hcj \n",
        "def get_jongsung_TF(sample_text): \n",
        "  sample_text_list = list(sample_text) \n",
        "  last_word = sample_text_list[-1] \n",
        "  last_word_jamo_list = list(j2hcj(h2j(last_word))) \n",
        "  last_jamo = last_word_jamo_list[-1] \n",
        "  jongsung_TF = \"T\" \n",
        "  if last_jamo in ['ㅏ', 'ㅑ', 'ㅓ', 'ㅕ', 'ㅗ', 'ㅛ', 'ㅜ', 'ㅠ', 'ㅡ', 'ㅣ', 'ㅘ', 'ㅚ', 'ㅙ', 'ㅝ', 'ㅞ', 'ㅢ', 'ㅐ,ㅔ', 'ㅟ', 'ㅖ', 'ㅒ']: \n",
        "    jongsung_TF = \"F\" \n",
        "  return jongsung_TF\n",
        "\n",
        "for word in word_list:\n",
        "  jongsung_TF = get_jongsung_TF(word)\n",
        "  line = '{},,,,NNP,*,{},{},*,*,*,*,*\\n'.format(word, jongsung_TF, word)\n",
        "  file_data.append(line)\n",
        "with open('./user-dic/nnp.csv', 'w', encoding='utf-8') as f:\n",
        "  for line in file_data:\n",
        "    f.write(line)\n",
        "\n",
        "with open('./user-dic/nnp.csv', 'r', encoding='utf-8') as f:\n",
        "  file_new = f.readlines()\n",
        "file_new\n",
        "\n",
        "!bash ./tools/add-userdic.sh\n",
        "\n",
        "!make install\n",
        "\n",
        "from konlpy.tag import Mecab\n",
        "mecab = Mecab()\n",
        "word_list = ['스누로', '자기이해']\n",
        "for word in word_list:\n",
        "  print(mecab.pos(word))"
      ],
      "metadata": {
        "colab": {
          "base_uri": "https://localhost:8080/"
        },
        "id": "NEQN8kC_-EtZ",
        "outputId": "eca821ca-b3f4-408c-9b17-de9aa7b52a54"
      },
      "execution_count": 11,
      "outputs": [
        {
          "output_type": "stream",
          "name": "stdout",
          "text": [
            "Requirement already satisfied: jamo in /usr/local/lib/python3.7/dist-packages (0.4.1)\n",
            "generating userdic...\n",
            "nnp.csv\n",
            "/tmp/mecab-ko-dic-2.1.1-20180720/tools/../model.def is not a binary model. reopen it as text mode...\n",
            "reading /tmp/mecab-ko-dic-2.1.1-20180720/tools/../user-dic/nnp.csv ... \n",
            "done!\n",
            "person.csv\n",
            "/tmp/mecab-ko-dic-2.1.1-20180720/tools/../model.def is not a binary model. reopen it as text mode...\n",
            "reading /tmp/mecab-ko-dic-2.1.1-20180720/tools/../user-dic/person.csv ... \n",
            "done!\n",
            "place.csv\n",
            "/tmp/mecab-ko-dic-2.1.1-20180720/tools/../model.def is not a binary model. reopen it as text mode...\n",
            "reading /tmp/mecab-ko-dic-2.1.1-20180720/tools/../user-dic/place.csv ... \n",
            "done!\n",
            "test -z \"model.bin matrix.bin char.bin sys.dic unk.dic\" || rm -f model.bin matrix.bin char.bin sys.dic unk.dic\n",
            "/usr/local/libexec/mecab/mecab-dict-index -d . -o . -f UTF-8 -t UTF-8\n",
            "reading ./unk.def ... 13\n",
            "emitting double-array: 100% |###########################################| \n",
            "reading ./EC.csv ... 2547\n",
            "reading ./XPN.csv ... 83\n",
            "reading ./CoinedWord.csv ... 148\n",
            "reading ./Foreign.csv ... 11690\n",
            "reading ./Hanja.csv ... 125750\n",
            "reading ./NNB.csv ... 140\n",
            "reading ./MAG.csv ... 14242\n",
            "reading ./user-nnp.csv ... 24\n",
            "reading ./NNP.csv ... 2371\n",
            "reading ./VCN.csv ... 7\n",
            "reading ./Preanalysis.csv ... 5\n",
            "reading ./user-place.csv ... 2\n",
            "reading ./VV.csv ... 7331\n",
            "reading ./user-person.csv ... 1\n",
            "reading ./XSV.csv ... 23\n",
            "reading ./Person-actor.csv ... 99230\n",
            "reading ./NNG.csv ... 208524\n",
            "reading ./XSA.csv ... 19\n",
            "reading ./Place-station.csv ... 1145\n",
            "reading ./ETN.csv ... 14\n",
            "reading ./VA.csv ... 2360\n",
            "reading ./NP.csv ... 342\n",
            "reading ./Symbol.csv ... 16\n",
            "reading ./XSN.csv ... 124\n",
            "reading ./MM.csv ... 453\n",
            "reading ./Group.csv ... 3176\n",
            "reading ./NNBC.csv ... 677\n",
            "reading ./ETM.csv ... 133\n",
            "reading ./EF.csv ... 1820\n",
            "reading ./NR.csv ... 482\n",
            "reading ./IC.csv ... 1305\n",
            "reading ./VX.csv ... 125\n",
            "reading ./Inflect.csv ... 44820\n",
            "reading ./J.csv ... 416\n",
            "reading ./NorthKorea.csv ... 3\n",
            "reading ./Place.csv ... 30303\n",
            "reading ./EP.csv ... 51\n",
            "reading ./Place-address.csv ... 19301\n",
            "reading ./VCP.csv ... 9\n",
            "reading ./Person.csv ... 196459\n",
            "reading ./MAJ.csv ... 240\n",
            "reading ./Wikipedia.csv ... 36762\n",
            "reading ./XR.csv ... 3637\n",
            "emitting double-array: 100% |###########################################| \n",
            "reading ./matrix.def ... 3822x2693\n",
            "emitting matrix      : 100% |###########################################| \n",
            "\n",
            "done!\n",
            "echo To enable dictionary, rewrite /usr/local/etc/mecabrc as \\\"dicdir = /usr/local/lib/mecab/dic/mecab-ko-dic\\\"\n",
            "To enable dictionary, rewrite /usr/local/etc/mecabrc as \"dicdir = /usr/local/lib/mecab/dic/mecab-ko-dic\"\n",
            "make[1]: Entering directory '/tmp/mecab-ko-dic-2.1.1-20180720'\n",
            "make[1]: Nothing to be done for 'install-exec-am'.\n",
            " /bin/mkdir -p '/usr/local/lib/mecab/dic/mecab-ko-dic'\n",
            " /usr/bin/install -c -m 644 model.bin matrix.bin char.bin sys.dic unk.dic left-id.def right-id.def rewrite.def pos-id.def dicrc '/usr/local/lib/mecab/dic/mecab-ko-dic'\n",
            "make[1]: Leaving directory '/tmp/mecab-ko-dic-2.1.1-20180720'\n",
            "[('스누로', 'NNP')]\n",
            "[('자기', 'NP'), ('이해', 'NNG')]\n"
          ]
        }
      ]
    },
    {
      "cell_type": "markdown",
      "source": [
        "## 데이터 불러오기"
      ],
      "metadata": {
        "id": "Xg9y3SUTz1PO"
      }
    },
    {
      "cell_type": "code",
      "source": [
        "cd ../.."
      ],
      "metadata": {
        "colab": {
          "base_uri": "https://localhost:8080/"
        },
        "id": "lbZnjYWKJHMY",
        "outputId": "be94d1d8-aac6-4cdd-87ff-16a3537a804c"
      },
      "execution_count": 12,
      "outputs": [
        {
          "output_type": "stream",
          "name": "stdout",
          "text": [
            "/\n"
          ]
        }
      ]
    },
    {
      "cell_type": "code",
      "source": [
        "ls"
      ],
      "metadata": {
        "colab": {
          "base_uri": "https://localhost:8080/"
        },
        "id": "0SmIE9nXJMVS",
        "outputId": "0db532ce-5659-4191-f4d5-44122423c6e2"
      },
      "execution_count": 13,
      "outputs": [
        {
          "output_type": "stream",
          "name": "stdout",
          "text": [
            "\u001b[0m\u001b[01;34mbin\u001b[0m/      \u001b[01;34mdev\u001b[0m/   \u001b[01;34mlib32\u001b[0m/  \u001b[01;34mopt\u001b[0m/         \u001b[01;34mrun\u001b[0m/   \u001b[01;34mtensorflow-1.15.2\u001b[0m/  \u001b[01;34musr\u001b[0m/\n",
            "\u001b[01;34mboot\u001b[0m/     \u001b[01;34metc\u001b[0m/   \u001b[01;34mlib64\u001b[0m/  \u001b[01;34mproc\u001b[0m/        \u001b[01;34msbin\u001b[0m/  \u001b[30;42mtmp\u001b[0m/                \u001b[01;34mvar\u001b[0m/\n",
            "\u001b[01;34mcontent\u001b[0m/  \u001b[01;34mhome\u001b[0m/  \u001b[01;34mmedia\u001b[0m/  \u001b[01;34mpython-apt\u001b[0m/  \u001b[01;34msrv\u001b[0m/   \u001b[01;34mtools\u001b[0m/\n",
            "\u001b[01;34mdatalab\u001b[0m/  \u001b[01;34mlib\u001b[0m/   \u001b[01;34mmnt\u001b[0m/    \u001b[01;34mroot\u001b[0m/        \u001b[01;34msys\u001b[0m/   trial.png\n"
          ]
        }
      ]
    },
    {
      "cell_type": "code",
      "source": [
        "cd content"
      ],
      "metadata": {
        "colab": {
          "base_uri": "https://localhost:8080/"
        },
        "id": "mpvgpZi-JN_H",
        "outputId": "dc6ffc4e-2c1e-4686-fbd9-6c103ac07fdc"
      },
      "execution_count": 14,
      "outputs": [
        {
          "output_type": "stream",
          "name": "stdout",
          "text": [
            "/content\n"
          ]
        }
      ]
    },
    {
      "cell_type": "code",
      "source": [
        "import os, glob\n",
        "\n",
        "weekFile = []\n",
        "participants = []\n",
        "\n",
        "for file in glob.glob(\"*.txt\"):\n",
        "  weekFile.append(file)\n",
        "  partici = os.path.splitext(file)[0]\n",
        "  partici = partici.split(',')\n",
        "  new = []\n",
        "  for i in partici:\n",
        "    i = i.replace(' ', '')\n",
        "    print(i)\n",
        "    new.append(i)\n",
        "  participants.append(new)\n",
        "\n",
        "print(weekFile)\n",
        "print(participants)"
      ],
      "metadata": {
        "colab": {
          "base_uri": "https://localhost:8080/"
        },
        "id": "hXVHuBzAzw0m",
        "outputId": "ec7e393d-23e9-4c5c-a402-5014cc211661"
      },
      "execution_count": 15,
      "outputs": [
        {
          "output_type": "stream",
          "name": "stdout",
          "text": [
            "1주차_천강주\n",
            "1주차_최한이\n",
            "1주차_김나현\n",
            "tmp\n",
            "1주차_양진영\n",
            "1주차_윤혜원\n",
            "1주차_김태주\n",
            "1주차_조현주\n",
            "1주차_류성원\n",
            "1주차_정수현\n",
            "['1주차_천강주.txt', '1주차_최한이.txt', '1주차_김나현.txt', 'tmp.txt', '1주차_양진영.txt', '1주차_윤혜원.txt', '1주차_김태주.txt', '1주차_조현주.txt', '1주차_류성원.txt', '1주차_정수현.txt']\n",
            "[['1주차_천강주'], ['1주차_최한이'], ['1주차_김나현'], ['tmp'], ['1주차_양진영'], ['1주차_윤혜원'], ['1주차_김태주'], ['1주차_조현주'], ['1주차_류성원'], ['1주차_정수현']]\n"
          ]
        }
      ]
    },
    {
      "cell_type": "code",
      "source": [
        "participants\n",
        "# 김나현 ['멘토', '멘티1', '멘티2']\n",
        "# 양진영 ['멘토', '멘티1', '멘티2', '멘티3']\n",
        "# 윤혜원 ['멘토1', '멘티1'] -> 멘티 2명인데 1명만\n",
        "# 김태주 ['멘토1', '멘티1'] -> 멘티 2명인데 한 명만\n",
        "# 류성원 ['멘토 1', '멘티 1', '멘티 2', '멘티 3']\n",
        "# 정수현 ['멘토', '멘티1', 멘티2']\n",
        "# 조현주 ['멘토 1', '멘티 2', '멘티 1']\n",
        "# 천강주 ['멘토1', '멘티1', '멘티2', '멘티3']\n",
        "# 최한이 ['멘토 1', '멘티1', '멘티2']\n",
        "\n",
        "# 김진재 ['멘토', '멘티1', '멘티2, '멘티3','참석자 3', '참석자 4', '참석자 6', '참석자 8']\n",
        "  # 참석자 3, 참석자 8 -> 멘티\n",
        "  # 참석자 4, 참석자 6 -> 멘토 \n",
        "# 손다빈 ['참석자 1', '참석자 2', '참석자 3', '참석자 4', '참석자 5', '참석자 6']\n",
        "  # -> 멘티 3명인데 참가자 6명\n",
        "# 전수빈 ['참석자 1', '참석자 2', '참석자 3', '참석자 4', '참석자 5','참석자 6',''참석자 7','참석자 8']\n",
        "  # -> 멘티 3명인데 참가자 6명\n",
        "# 전유림 ['멘토 1', '멘티 2', '멘티 1', '참석자 4']\n",
        "# 조현서 ['멘토', '멘티1', 멘티2', '멘티3', '참석자 5'] -> 실제 파일 없음"
      ],
      "metadata": {
        "colab": {
          "base_uri": "https://localhost:8080/"
        },
        "id": "bWgPQxHzt0vu",
        "outputId": "10844ecf-1b53-485d-ffec-90727117ac74"
      },
      "execution_count": 16,
      "outputs": [
        {
          "output_type": "execute_result",
          "data": {
            "text/plain": [
              "[['1주차_천강주'],\n",
              " ['1주차_최한이'],\n",
              " ['1주차_김나현'],\n",
              " ['tmp'],\n",
              " ['1주차_양진영'],\n",
              " ['1주차_윤혜원'],\n",
              " ['1주차_김태주'],\n",
              " ['1주차_조현주'],\n",
              " ['1주차_류성원'],\n",
              " ['1주차_정수현']]"
            ]
          },
          "metadata": {},
          "execution_count": 16
        }
      ]
    },
    {
      "cell_type": "code",
      "source": [
        "#del participants[3]"
      ],
      "metadata": {
        "id": "jscYSeC3f7zr"
      },
      "execution_count": 25,
      "outputs": []
    },
    {
      "cell_type": "code",
      "source": [
        "participants"
      ],
      "metadata": {
        "colab": {
          "base_uri": "https://localhost:8080/"
        },
        "id": "3bK6v9-cgAZ9",
        "outputId": "57fbdbd1-8718-47e3-cbe7-28c8886b05d7"
      },
      "execution_count": 26,
      "outputs": [
        {
          "output_type": "execute_result",
          "data": {
            "text/plain": [
              "[['멘토1', '멘티1', '멘티2', '멘티3'],\n",
              " ['멘토 1', '멘티1', '멘티2'],\n",
              " ['멘토', '멘티1', '멘티2'],\n",
              " ['멘토1', '멘티1'],\n",
              " ['멘토1', '멘티1'],\n",
              " ['멘토 1', '멘티 2', '멘티 1'],\n",
              " ['멘토 1', '멘티 1', '멘티 2', '멘티 3'],\n",
              " ['멘토', '멘티1', '멘티2'],\n",
              " ['1주차_정수현']]"
            ]
          },
          "metadata": {},
          "execution_count": 26
        }
      ]
    },
    {
      "cell_type": "code",
      "source": [
        "# 천강주\n",
        "participants[0] = ['멘토1', '멘티1', '멘티2', '멘티3']\n",
        "# 최한이\n",
        "participants[1] = ['멘토 1', '멘티1', '멘티2']\n",
        "# 김나현\n",
        "participants[2] = ['멘토', '멘티1', '멘티2']\n",
        "# 양진영\n",
        "participants[3] = ['멘토', '멘티1', '멘티2', '멘티3']\n",
        "# 윤혜원\n",
        "participants[4] = ['멘토1', '멘티1']\n",
        "# 김태주\n",
        "participants[5] = ['멘토1', '멘티1'] \n",
        "# 조현주\n",
        "participants[6] = ['멘토 1', '멘티 2', '멘티 1']\n",
        "# 류성원\n",
        "participants[7] = ['멘토 1', '멘티 1', '멘티 2', '멘티 3']\n",
        "# 정수현\n",
        "participants[8] = ['멘토', '멘티1', '멘티2']"
      ],
      "metadata": {
        "id": "CjceZfEe1BKH"
      },
      "execution_count": 27,
      "outputs": []
    },
    {
      "cell_type": "code",
      "source": [
        "participants"
      ],
      "metadata": {
        "colab": {
          "base_uri": "https://localhost:8080/"
        },
        "id": "OLIFsXeggCzP",
        "outputId": "e30d8c82-d9be-4b3c-d420-6c1d9afc50b6"
      },
      "execution_count": 28,
      "outputs": [
        {
          "output_type": "execute_result",
          "data": {
            "text/plain": [
              "[['멘토1', '멘티1', '멘티2', '멘티3'],\n",
              " ['멘토 1', '멘티1', '멘티2'],\n",
              " ['멘토', '멘티1', '멘티2'],\n",
              " ['멘토', '멘티1', '멘티2', '멘티3'],\n",
              " ['멘토1', '멘티1'],\n",
              " ['멘토1', '멘티1'],\n",
              " ['멘토 1', '멘티 2', '멘티 1'],\n",
              " ['멘토 1', '멘티 1', '멘티 2', '멘티 3'],\n",
              " ['멘토', '멘티1', '멘티2']]"
            ]
          },
          "metadata": {},
          "execution_count": 28
        }
      ]
    },
    {
      "cell_type": "code",
      "source": [
        "# 한글 표현\n",
        "!sudo apt-get install -y fonts-nanum\n",
        "!sudo fc-cache -fv\n",
        "!rm ~/.cache/matplotlib -rf"
      ],
      "metadata": {
        "colab": {
          "base_uri": "https://localhost:8080/"
        },
        "id": "lWaoJZrTe2CL",
        "outputId": "9c1dc984-69f4-4de4-cc19-318c1e4b62fd"
      },
      "execution_count": 19,
      "outputs": [
        {
          "output_type": "stream",
          "name": "stdout",
          "text": [
            "Reading package lists... Done\n",
            "Building dependency tree       \n",
            "Reading state information... Done\n",
            "fonts-nanum is already the newest version (20170925-1).\n",
            "0 upgraded, 0 newly installed, 0 to remove and 55 not upgraded.\n",
            "/usr/share/fonts: caching, new cache contents: 0 fonts, 1 dirs\n",
            "/usr/share/fonts/truetype: caching, new cache contents: 0 fonts, 4 dirs\n",
            "/usr/share/fonts/truetype/dejavu: caching, new cache contents: 22 fonts, 0 dirs\n",
            "/usr/share/fonts/truetype/humor-sans: caching, new cache contents: 1 fonts, 0 dirs\n",
            "/usr/share/fonts/truetype/liberation: caching, new cache contents: 16 fonts, 0 dirs\n",
            "/usr/share/fonts/truetype/nanum: caching, new cache contents: 31 fonts, 0 dirs\n",
            "/usr/local/share/fonts: caching, new cache contents: 0 fonts, 0 dirs\n",
            "/root/.local/share/fonts: skipping, no such directory\n",
            "/root/.fonts: skipping, no such directory\n",
            "/var/cache/fontconfig: cleaning cache directory\n",
            "/root/.cache/fontconfig: not cleaning non-existent cache directory\n",
            "/root/.fontconfig: not cleaning non-existent cache directory\n",
            "fc-cache: succeeded\n"
          ]
        }
      ]
    },
    {
      "cell_type": "code",
      "source": [
        "# 데이터 준비\n",
        "import numpy as np\n",
        "\n",
        "data = np.random.randint(-200, 100, 50).cumsum()\n",
        "data\n",
        "\n",
        "# 한글을 넣어놓고 그러보면 깨진다\n",
        "plt.rc('font', family='NanumBarunGothic')\n",
        "plt.figure(figsize=(10,8))\n",
        "plt.plot(range(50), data, 'r')\n",
        "plt.title('시간별 가격추이')\n",
        "plt.ylabel('주식가격')\n",
        "plt.xlabel('시간(분)')"
      ],
      "metadata": {
        "colab": {
          "base_uri": "https://localhost:8080/",
          "height": 585
        },
        "id": "jR7UOQKE53BZ",
        "outputId": "eabc20b0-574a-4fc0-d1e4-b4bc4b4fd6f0"
      },
      "execution_count": 20,
      "outputs": [
        {
          "output_type": "execute_result",
          "data": {
            "text/plain": [
              "Text(0.5, 0, '시간(분)')"
            ]
          },
          "metadata": {},
          "execution_count": 20
        },
        {
          "output_type": "stream",
          "name": "stderr",
          "text": [
            "/usr/local/lib/python3.7/dist-packages/google/colab/_event_manager.py:28: UserWarning: Glyph 8722 (\\N{MINUS SIGN}) missing from current font.\n",
            "  func(*args, **kwargs)\n",
            "/usr/local/lib/python3.7/dist-packages/IPython/core/pylabtools.py:125: UserWarning: Glyph 8722 (\\N{MINUS SIGN}) missing from current font.\n",
            "  fig.canvas.print_figure(bytes_io, **kw)\n"
          ]
        },
        {
          "output_type": "display_data",
          "data": {
            "image/png": "[encoded data removed]",
            "text/plain": [
              "<Figure size 720x576 with 1 Axes>"
            ]
          },
          "metadata": {
            "needs_background": "light"
          }
        }
      ]
    },
    {
      "cell_type": "markdown",
      "source": [
        "# 분석"
      ],
      "metadata": {
        "id": "-Qf-TT4Cfr3c"
      }
    },
    {
      "cell_type": "code",
      "source": [
        "import stylecloud"
      ],
      "metadata": {
        "id": "0xwTk9rjBm0q"
      },
      "execution_count": 21,
      "outputs": []
    },
    {
      "cell_type": "code",
      "source": [
        "def basic_preprocessing_test(textFile, participant_list):\n",
        "    # open textFile\n",
        "    namelength = len(participant_list[1])\n",
        "    df_to_save = pd.DataFrame(index = range(0,4),columns=['participants', 'time', 'sentence'])\n",
        "    f = open(f'/content/{textFile}', 'r', encoding='utf-8')\n",
        "    tmp = 0\n",
        "    tmp_line = []\n",
        "    while True:\n",
        "        line = f.readline()\n",
        "        if line[:namelength] in participant_list:\n",
        "            if tmp != 0:\n",
        "                df_to_save.loc[f'{tmp}'] = tmp_line[:3]\n",
        "            tmp_line = []\n",
        "            tmp += 1\n",
        "            tmp_line.append(line[:namelength])\n",
        "            tmp_line.append(line[namelength:-1])\n",
        "        elif line == '\\n':\n",
        "            pass\n",
        "        else:\n",
        "            tmp_line.append(line[:-1])\n",
        "        if not line: break\n",
        "    # drop na value\n",
        "    df_to_save = df_to_save.dropna(axis=0)\n",
        "    return df_to_save"
      ],
      "metadata": {
        "id": "Nq1DV3MzzmHG"
      },
      "execution_count": 29,
      "outputs": []
    },
    {
      "cell_type": "code",
      "source": [
        "print(len(weekFile), weekFile)\n",
        "#del weekFile[3]\n",
        "print(len(participants), participants)\n",
        "save_df = []"
      ],
      "metadata": {
        "colab": {
          "base_uri": "https://localhost:8080/"
        },
        "id": "objQek3T2ODa",
        "outputId": "e1fad5b7-f844-43a7-a777-9955771ef802"
      },
      "execution_count": 33,
      "outputs": [
        {
          "output_type": "stream",
          "name": "stdout",
          "text": [
            "10 ['1주차_천강주.txt', '1주차_최한이.txt', '1주차_김나현.txt', 'tmp.txt', '1주차_양진영.txt', '1주차_윤혜원.txt', '1주차_김태주.txt', '1주차_조현주.txt', '1주차_류성원.txt', '1주차_정수현.txt']\n",
            "9 [['멘토1', '멘티1', '멘티2', '멘티3'], ['멘토 1', '멘티1', '멘티2'], ['멘토', '멘티1', '멘티2'], ['멘토', '멘티1', '멘티2', '멘티3'], ['멘토1', '멘티1'], ['멘토1', '멘티1'], ['멘토 1', '멘티 2', '멘티 1'], ['멘토 1', '멘티 1', '멘티 2', '멘티 3'], ['멘토', '멘티1', '멘티2']]\n"
          ]
        }
      ]
    },
    {
      "cell_type": "code",
      "source": [
        "for i in range(len(weekFile)):\n",
        "  save_df.append(basic_preprocessing_test(weekFile[i], participants[i]))"
      ],
      "metadata": {
        "id": "ABmEjcSa1_7C"
      },
      "execution_count": 34,
      "outputs": []
    },
    {
      "cell_type": "code",
      "source": [
        "for i in range(len(weekFile)):\n",
        "  print(save_df[i].head(10))"
      ],
      "metadata": {
        "colab": {
          "base_uri": "https://localhost:8080/"
        },
        "id": "wOCTq0nd2k_n",
        "outputId": "45ccb7b5-4120-431d-9eea-f4be15057de7"
      },
      "execution_count": 35,
      "outputs": [
        {
          "output_type": "stream",
          "name": "stdout",
          "text": [
            "   participants time                             sentence\n",
            "1           멘토1                                여러분 들어왔어요.\n",
            "2           멘토1                                    안녕하세요.\n",
            "3           멘티1                                    잘 들려요.\n",
            "4           멘토1                        잘 들려요. 얼굴 좀 보여주실래요\n",
            "5           멘토1                             카메라는 켜면 좋긴 한데\n",
            "6           멘티2                                         막\n",
            "7           멘토1                   자기가 꼭 자기 모습을 보여주기 어렵다. \n",
            "8           멘토1                           권영기 학생 한번 말해볼래요\n",
            "9           멘티3                                    안녕하세요.\n",
            "10          멘토1       네 잘 들리고요 박서진 학생도 얘기 한번 해볼래요 안녕하세요. \n",
            "   participants    time              sentence\n",
            "1           멘티1   06:04                     네\n",
            "2           멘티2   06:52                     네\n",
            "3           멘티2   07:36  그냥 집에 있다가 학원 가고 숙제하고\n",
            "4           멘티1   07:44             저도 비슷했어요.\n",
            "5           멘티2   09:27  회원가입하라고 뜨고 로그인하라 뜨는데\n",
            "6           멘티2   09:32      로그인 버튼이 안 울려졌어요.\n",
            "7           멘티1   16:53             아니 핸드폰으로만\n",
            "8           멘티1   16:59           폰으로만 확인했어요.\n",
            "9           멘티1   17:46               다 받았어요.\n",
            "10          멘티1   18:46                     네\n",
            "   participants    time          sentence\n",
            "1           멘티1   03:01            안녕하세요.\n",
            "2           멘티1   03:41    그냥 숙제하고 학원 갔다가\n",
            "3           멘티1   03:54                 네\n",
            "4           멘티1   03:59            네 했어요.\n",
            "5           멘티1   04:05       3월 2일에 하는 거\n",
            "6           멘티1   04:09                 음\n",
            "7           멘티1   04:21                 응\n",
            "8           멘티1   04:26  저 노래를 별로 안 들어가지고\n",
            "9           멘티1   04:34                 네\n",
            "10          멘티1   04:41               하여금\n",
            "   participants    time                                          sentence\n",
            "1           멘티1   44:05  일단 생일 잘 보냈고요 일주일 동안 학원 다니면서 숙제 같은 것도 하고 잘 지냈습니다.\n",
            "2           멘티1   44:47                                               네 네\n",
            "3           멘티1   44:56                                     원래 좀 알고 있었어요.\n",
            "4           멘티3   44:58                                     저도 학교에서 배웠어요.\n",
            "5           멘티2   45:01                                     저도 좀 알고 있었어요.\n",
            "6           멘티1   45:43    일단 고교 학생회가 근데 이게 무조건 들어야 되는 게 있고 선택하는 게 있잖아요. \n",
            "7           멘티2   46:34                                     특별히 없는 것 같아요.\n",
            "8           멘티3   46:39                  저도 부족했던 과목이나 그런 것들을 들으면 될 것 같아요.\n",
            "9           멘티1   47:49                                       안 맞은 것 같아요.\n",
            "10          멘티1   47:55                                                 네\n",
            "   participants time                                           sentence\n",
            "1           멘토1                              동혁 혹시 두 번째 것도 한번 생각해 보셨나요.\n",
            "2           멘티1                                                 쓰고 있어요.\n",
            "3           멘토1                                        쓰고 있어요. 네 알겠습니다.\n",
            "4           멘토1                                 학생 혹시 그냥 말로 해줄 수 있을까요. \n",
            "5           멘티1                                            서울대에 가보고 싶다.\n",
            "6           멘토1                     서울대에 가보고 싶다 만약에 가보면 어디에 제일 가보고 싶어요.\n",
            "7           멘티1                                            그냥 그 문에 큰 문만\n",
            "8           멘토1       샤차 이렇게 써 있는 거 거기서 사진 찍고 맞아 그렇죠 우리가 다음 주 활동이 대면...\n",
            "9           멘토1       한번 더 전공에 대해서 더 깊이 탐색하는 시간 가져볼 거니까 그때 한번 어떤 직업들...\n",
            "10          멘토1                       다음으로 우리 이제 자기 이해 활동을 진행을 해볼 거예요. \n",
            "   participants    time                                           sentence\n",
            "1           멘토1   07:55                                    5분 정도 기다려봤는데 참여\n",
            "2           멘티1   07:58                                            아마 몇 개라\n",
            "3           멘토1   07:59                       들어오실 것 같아서 일단 진행해 보는 걸로 할까요.\n",
            "4           멘티1   08:05  네 그러면 일단 우선 비디오를 켤게요 비디오를 켜야 될 것 같아서 안 그러면은 누가...\n",
            "5           멘토1   08:14                                      지금 100이신 거예요.\n",
            "6           멘티1   08:16                                      네 네 집인 거예요. 네\n",
            "7           멘티1   08:19                                          그렇구나 좀 질문\n",
            "8           멘토1   08:20                                  아직 기숙사에 아직 집에 못갔어\n",
            "9           멘티1   08:22                                          가고 있어 가지고\n",
            "10          멘토1   08:23                어떻게 일주일 동안 잘 보내셨어요. 이번 주가 엄청 추웠잖아요.\n",
            "   participants    time                                       sentence\n",
            "1          멘토 1   41:24                  다들 들어왔을까 마이크 켜고 혹시 얘기해 줄 수 있니\n",
            "2          멘티 2   41:41                                             혹시\n",
            "3          멘토 1   41:43                                 다들 비디오 켜줄 수 있어\n",
            "4          멘토 1   42:00                                         안녕하세요.\n",
            "5          멘토 1   42:01                                  안녕 데이는 혹시 어떨까\n",
            "6          멘토 1   42:23                                              응\n",
            "7          멘토 1   42:35       뭔가 기술적인 문제가 있으면 톡방이나 채팅으로 얘기를 해주면 될 것 같아\n",
            "8          멘티 2   42:46                               제가 비디오가 안 돼서 오케이\n",
            "9          멘토 1   42:51  그러면 일단은 다들 그냥 계속 마이크를 켜두고 있으면 얘기를 하기에 편할 것 같고\n",
            "10         멘티 1   43:02            근데 지금 밖에 가족들이 있어가지고 조금 시끄러울 것 같아요. \n",
            "   participants    time                                           sentence\n",
            "1          멘토 1   00:00  말씀을 드리고 네 그러면 일단 지난주에 봤지만 또 일주일이 지났으니까 다들 일주일을...\n",
            "2          멘티 1   00:14                                                  음\n",
            "3          멘토 1   00:15   제가 이제 3학년이 되는데 대학교 이제 3학년 되면 다들 교원 학생을 많이 가거든요. \n",
            "4          멘티 2   00:43                              제가 이번 주부터 영화원을 다녔어요. \n",
            "5          멘티 1   00:59                                                  음\n",
            "6          멘토 1   01:00                              축제가 없는 건 좋은데 대신 가면 해림\n",
            "7          멘티 2   01:03                                             네 맞아요.\n",
            "8          멘토 1   01:04               어떤 게 더 좋나요. 숙제가 있고 수업은 좀 편안한 게 좋아요. \n",
            "9          멘티 2   01:09                                       숙제 없는 게 좋아요.\n",
            "10         멘토 1   01:10                            저도 그냥 한 번 가서 고통스러운 게 나은\n",
            "   participants    time           sentence\n",
            "1           멘티1   04:47                  네\n",
            "2           멘티2   05:18                  네\n",
            "3           멘티1   05:32                  응\n",
            "4           멘티1   05:42        놀 줘 늦게 일어나고\n",
            "5           멘티1   05:47               게임하고\n",
            "6           멘티1   05:55               오늘이요\n",
            "7           멘티1   05:56                  응\n",
            "8           멘티1   05:59           잘 모르겠어요.\n",
            "9           멘티2   06:05            방학 때 그냥\n",
            "10          멘티2   06:12  그냥 학원 좀 일찍 갔다. 오고\n"
          ]
        }
      ]
    },
    {
      "cell_type": "code",
      "source": [
        "import openpyxl\n",
        "import pandas as pd\n",
        "\n",
        "\n",
        "menti_list = []\n",
        "mentor_list = []\n",
        "men = pd.read_excel('/content/220114_matching_data.xlsx')\n",
        "menti = men.loc[:, ['스누씨드']]\n",
        "mentor = men.loc[:, ['스누링커']]\n",
        "menti.head(3)\n",
        "mentor.head(3)\n",
        "\n",
        "menti_list = menti['스누씨드'].tolist()\n",
        "mentor_list = mentor['스누링커'].tolist()\n",
        "mentor_list = set(mentor_list) #집합set으로 변환\n",
        "mentor_list = list(mentor_list) #list로 변환\n",
        "\n",
        "print(menti_list)"
      ],
      "metadata": {
        "colab": {
          "base_uri": "https://localhost:8080/"
        },
        "id": "bx6eoREoqv-P",
        "outputId": "f4e07b67-c99f-448c-b3c6-615bff6948fa"
      },
      "execution_count": 98,
      "outputs": [
        {
          "output_type": "stream",
          "name": "stdout",
          "text": [
            "['임소을', '박채은', '이호준', '심민찬', '장연주', '김주희', '안민성', '정건우', '조혜랑', '이윤준', '김찬우', '김현아', '백채은', '김하람', '임정진', '김민지', '허수진', '채예준', '강민주', '김도훈', '김민재', '이정민', '송지훈', '변유림', '전희수', '김동혁', '장원빈', '이은서', '신가희', '남궁현', '박세연', '장소영', '홍미르', '박수지', '조재찬', '홍성주', '김우찬', '이최은결', '허고은', '이하빈', '김태희', '김하은', '김예은', '권현기', '박서진', '조원지', '황예진', '이현경', '조원지', '황예진', '이현경', '하혜민', '권혜진']\n"
          ]
        }
      ]
    },
    {
      "cell_type": "code",
      "source": [
        "def mecabTest_wordcloud_with_style(textFile, processed):\n",
        "    \n",
        "    tagger = Mecab()\n",
        "    \n",
        "    text = ''\n",
        "    nountext = ''\n",
        "    for idx, row in processed.iterrows():\n",
        "        text += row['sentence']\n",
        "    \n",
        "    token = tagger.pos(text)\n",
        "        \n",
        "    for word, typed in token:\n",
        "        if typed in ['NNG', 'NNP', 'NNB', 'NR']:\n",
        "            if word in ['것', '수', '거', '때문']:\n",
        "                continue\n",
        "            if word in menti_tor_list:\n",
        "              continue\n",
        "            else:\n",
        "                nountext += (' '+word+' ')\n",
        "\n",
        "    f = open(r'/content/tmp.txt', 'w')\n",
        "    f.write(nountext)\n",
        "    f.close()\n",
        "    \n",
        "    # 이 부분만 수정 #<i class=\"fas fa-landmark\"></i>\n",
        "    stylecloud.gen_stylecloud(file_path = '/content/tmp.txt', icon_name=\"fab fa-adn\", \n",
        "                              colors=\"black\", \n",
        "                              background_color=\"white\", gradient=\"horizontal\",\n",
        "                              font_path='/content/malgun.ttf' ,\n",
        "                              output_name=f'/content/{textFile[:-4]}_wordcloud_with_style.png')\n",
        "    return nountext"
      ],
      "metadata": {
        "id": "RftpnwRqPil0"
      },
      "execution_count": 36,
      "outputs": []
    },
    {
      "cell_type": "code",
      "source": [
        "for i in range(len(weekFile)):\n",
        "  mecabTest_wordcloud_with_style(weekFile[i], save_df[i])"
      ],
      "metadata": {
        "id": "sk80pZImPtpF"
      },
      "execution_count": 37,
      "outputs": []
    },
    {
      "cell_type": "code",
      "source": [
        ""
      ],
      "metadata": {
        "id": "n9nfhaojrJtv"
      },
      "execution_count": null,
      "outputs": []
    },
    {
      "cell_type": "code",
      "source": [
        "def wordNetwork(ith_save_df):\n",
        "    # 단락별로 키워드만 남긴 데이터가 필요하다\n",
        "  \n",
        "    tagger = Mecab()\n",
        "    \n",
        "    text = ''\n",
        "    nountext = ''\n",
        "    for idx, row in ith_save_df.iterrows():\n",
        "        # 줄바꿈 기록을 위함\n",
        "        text += '----'\n",
        "        text += row['sentence']\n",
        "    \n",
        "    token = tagger.pos(text)\n",
        "\n",
        "    for word, typed in token:\n",
        "        if typed in ['NNG', 'NNP', 'NNB', 'NR']:\n",
        "            if word in ['것', '수', '거', '때문', '권영기'] or len(word) < 2 or \\\n",
        "                word in mentor_list or word in menti_list:\n",
        "                continue\n",
        "            else:\n",
        "                nountext += (' '+word+' ') # 키워드 추출을 위한 구분 기호\n",
        "        elif word == '--------':\n",
        "          nountext += '----'\n",
        "    \n",
        "    temp_list = nountext.split()\n",
        "    tmp = []\n",
        "    final = []\n",
        "    for i in temp_list:\n",
        "      if i == '----' or i == '--------':\n",
        "        final.append(tmp)\n",
        "        tmp = []\n",
        "      else:\n",
        "        tmp.append(i)\n",
        "    return final"
      ],
      "metadata": {
        "id": "--BpDMcAUvtf"
      },
      "execution_count": 111,
      "outputs": []
    },
    {
      "cell_type": "code",
      "source": [
        "dataset = (wordNetwork(save_df[0]))\n",
        "dataset = dataset[1:-1]"
      ],
      "metadata": {
        "id": "PbtFnQZVVix4"
      },
      "execution_count": 112,
      "outputs": []
    },
    {
      "cell_type": "code",
      "source": [
        "%pip install apyori"
      ],
      "metadata": {
        "colab": {
          "base_uri": "https://localhost:8080/"
        },
        "id": "FIg6lF4QYM8T",
        "outputId": "e247c672-ab4f-40d3-c1ab-8c01c604f5ed"
      },
      "execution_count": 40,
      "outputs": [
        {
          "output_type": "stream",
          "name": "stdout",
          "text": [
            "Requirement already satisfied: apyori in /usr/local/lib/python3.7/dist-packages (1.1.2)\n"
          ]
        }
      ]
    },
    {
      "cell_type": "code",
      "source": [
        "# 연관 규칙 계산\n",
        "from apyori import apriori\n",
        "import pandas as pd\n",
        "result = (list(apriori(dataset, min_support=0.01)))\n",
        "df = pd.DataFrame(result)\n",
        "\n",
        "df['length'] = df['items'].apply(lambda x:len(x))\n",
        "df = df[(df['length']==2) &\n",
        "        (df['support'] >= 0.01)].sort_values(by='support', ascending=True)\n",
        "df = df.iloc[30:]\n",
        "df.head(40)"
      ],
      "metadata": {
        "colab": {
          "base_uri": "https://localhost:8080/",
          "height": 108
        },
        "id": "kiLijHOykcGJ",
        "outputId": "cda7268f-f86c-4b14-c939-e778f6397bc7"
      },
      "execution_count": 114,
      "outputs": [
        {
          "output_type": "stream",
          "name": "stdout",
          "text": [
            "Empty DataFrame\n",
            "Columns: []\n",
            "Index: []\n"
          ]
        },
        {
          "output_type": "execute_result",
          "data": {
            "application/vnd.google.colaboratory.intrinsic+json": {
              "type": "string"
            },
            "text/plain": [
              "\"\\ndf['length'] = df['items'].apply(lambda x:len(x))\\ndf = df[(df['length']==2) &\\n        (df['support'] >= 0.01)].sort_values(by='support', ascending=True)\\ndf = df.iloc[30:]\\ndf.head(40)\""
            ]
          },
          "metadata": {},
          "execution_count": 114
        }
      ]
    },
    {
      "cell_type": "code",
      "source": [
        "#%pip install networkx\n",
        "# network 그래프 정의\n",
        "import networkx as nx\n",
        "\n",
        "G = nx.Graph()\n",
        "ar = (df['items'])\n",
        "G.add_edges_from(ar)\n",
        "\n",
        "try:\n",
        "  G.remove_edge('기말고사', '중학교')\n",
        "  G.remove_edge('처리', '일')\n",
        "  G.remove_edge('해결', '사회')\n",
        "  G.remove_edge('해결', '문제')\n",
        "  G.remove_edge('저번', '주')\n",
        "except:\n",
        "  pass\n",
        "\n",
        "pr = nx.pagerank(G)\n",
        "nsize = np.array([v for v in pr.values()])\n",
        "nsize = 2000 * (nsize-min(nsize)) / (max(nsize)-min(nsize))\n",
        "\n",
        "#removed_edges = filter(lambda e: True if e[2]['weight'] > 20 else False, G.edges(data=True))\n",
        "#G.remove_edges_from(list(map(lambda e: (e[0], e[1]), removed_edges)))"
      ],
      "metadata": {
        "id": "Bf5yY-SBYu7e"
      },
      "execution_count": 102,
      "outputs": []
    },
    {
      "cell_type": "code",
      "source": [
        "print(G)\n",
        "print(ar)"
      ],
      "metadata": {
        "colab": {
          "base_uri": "https://localhost:8080/"
        },
        "id": "dp9jkGAWiQuS",
        "outputId": "3024cb33-32eb-44ac-c3e3-1c75fa7e688a"
      },
      "execution_count": 60,
      "outputs": [
        {
          "output_type": "stream",
          "name": "stdout",
          "text": [
            "Graph with 52 nodes and 101 edges\n",
            "192              (얘기, 학생)\n",
            "179              (생각, 얘기)\n",
            "182              (생각, 학생)\n",
            "128             (권영기, 학생)\n",
            "114              (생각, 강점)\n",
            "              ...        \n",
            "106    (------------, 얘기)\n",
            "156               (때, 학생)\n",
            "160               (얘기, 말)\n",
            "167             (얘기, 박서진)\n",
            "155               (때, 학년)\n",
            "Name: items, Length: 101, dtype: object\n"
          ]
        }
      ]
    },
    {
      "cell_type": "code",
      "source": [
        "# 레이아웃\n",
        "import matplotlib.font_manager as fm\n",
        "from matplotlib import rc\n",
        "\n",
        "pos = nx.kamada_kawai_layout(G)\n",
        "plt.figure(figsize=(16,12))\n",
        "plt.axis('off')\n",
        "\n",
        "nx.draw_networkx(G, pos=pos, font_family='NanumBarunGothic', font_size=40, node_color=list(pr.values()), node_size=nsize, \n",
        "                 alpha=0.7, edge_color='.2', cmap=plt.cm.YlGn)\n",
        "plt.savefig('/trial.png', bbox_inches='tight')"
      ],
      "metadata": {
        "colab": {
          "base_uri": "https://localhost:8080/",
          "height": 683
        },
        "id": "f5foaPrpZiIm",
        "outputId": "d52282fa-7135-422d-e2d5-95c36f5313cc"
      },
      "execution_count": 105,
      "outputs": [
        {
          "output_type": "display_data",
          "data": {
            "image/png": "[encoded data removed]",
            "text/plain": [
              "<Figure size 1152x864 with 1 Axes>"
            ]
          },
          "metadata": {}
        }
      ]
    },
    {
      "cell_type": "code",
      "source": [
        ""
      ],
      "metadata": {
        "id": "jYSYsafUZbMs"
      },
      "execution_count": null,
      "outputs": []
    },
    {
      "cell_type": "code",
      "source": [
        "save_df[0].head(5)"
      ],
      "metadata": {
        "colab": {
          "base_uri": "https://localhost:8080/",
          "height": 231
        },
        "id": "04EyAfTgT8MR",
        "outputId": "6370dd2b-deca-42fa-88ba-75f029daa9ec"
      },
      "execution_count": 59,
      "outputs": [
        {
          "output_type": "execute_result",
          "data": {
            "text/html": [
              "\n",
              "  <div id=\"df-704e7c33-303f-4a12-8b87-cd1520aaac66\">\n",
              "    <div class=\"colab-df-container\">\n",
              "      <div>\n",
              "<style scoped>\n",
              "    .dataframe tbody tr th:only-of-type {\n",
              "        vertical-align: middle;\n",
              "    }\n",
              "\n",
              "    .dataframe tbody tr th {\n",
              "        vertical-align: top;\n",
              "    }\n",
              "\n",
              "    .dataframe thead th {\n",
              "        text-align: right;\n",
              "    }\n",
              "</style>\n",
              "<table border=\"1\" class=\"dataframe\">\n",
              "  <thead>\n",
              "    <tr style=\"text-align: right;\">\n",
              "      <th></th>\n",
              "      <th>participants</th>\n",
              "      <th>time</th>\n",
              "      <th>sentence</th>\n",
              "    </tr>\n",
              "  </thead>\n",
              "  <tbody>\n",
              "    <tr>\n",
              "      <th>1</th>\n",
              "      <td>멘토1</td>\n",
              "      <td></td>\n",
              "      <td>여러분 들어왔어요.</td>\n",
              "    </tr>\n",
              "    <tr>\n",
              "      <th>2</th>\n",
              "      <td>멘토1</td>\n",
              "      <td></td>\n",
              "      <td>안녕하세요.</td>\n",
              "    </tr>\n",
              "    <tr>\n",
              "      <th>3</th>\n",
              "      <td>멘티1</td>\n",
              "      <td></td>\n",
              "      <td>잘 들려요.</td>\n",
              "    </tr>\n",
              "    <tr>\n",
              "      <th>4</th>\n",
              "      <td>멘토1</td>\n",
              "      <td></td>\n",
              "      <td>잘 들려요. 얼굴 좀 보여주실래요</td>\n",
              "    </tr>\n",
              "    <tr>\n",
              "      <th>5</th>\n",
              "      <td>멘토1</td>\n",
              "      <td></td>\n",
              "      <td>카메라는 켜면 좋긴 한데</td>\n",
              "    </tr>\n",
              "  </tbody>\n",
              "</table>\n",
              "</div>\n",
              "      <button class=\"colab-df-convert\" onclick=\"convertToInteractive('df-704e7c33-303f-4a12-8b87-cd1520aaac66')\"\n",
              "              title=\"Convert this dataframe to an interactive table.\"\n",
              "              style=\"display:none;\">\n",
              "        \n",
              "  <svg xmlns=\"http://www.w3.org/2000/svg\" height=\"24px\"viewBox=\"0 0 24 24\"\n",
              "       width=\"24px\">\n",
              "    <path d=\"M0 0h24v24H0V0z\" fill=\"none\"/>\n",
              "    <path d=\"M18.56 5.44l.94 2.06.94-2.06 2.06-.94-2.06-.94-.94-2.06-.94 2.06-2.06.94zm-11 1L8.5 8.5l.94-2.06 2.06-.94-2.06-.94L8.5 2.5l-.94 2.06-2.06.94zm10 10l.94 2.06.94-2.06 2.06-.94-2.06-.94-.94-2.06-.94 2.06-2.06.94z\"/><path d=\"M17.41 7.96l-1.37-1.37c-.4-.4-.92-.59-1.43-.59-.52 0-1.04.2-1.43.59L10.3 9.45l-7.72 7.72c-.78.78-.78 2.05 0 2.83L4 21.41c.39.39.9.59 1.41.59.51 0 1.02-.2 1.41-.59l7.78-7.78 2.81-2.81c.8-.78.8-2.07 0-2.86zM5.41 20L4 18.59l7.72-7.72 1.47 1.35L5.41 20z\"/>\n",
              "  </svg>\n",
              "      </button>\n",
              "      \n",
              "  <style>\n",
              "    .colab-df-container {\n",
              "      display:flex;\n",
              "      flex-wrap:wrap;\n",
              "      gap: 12px;\n",
              "    }\n",
              "\n",
              "    .colab-df-convert {\n",
              "      background-color: #E8F0FE;\n",
              "      border: none;\n",
              "      border-radius: 50%;\n",
              "      cursor: pointer;\n",
              "      display: none;\n",
              "      fill: #1967D2;\n",
              "      height: 32px;\n",
              "      padding: 0 0 0 0;\n",
              "      width: 32px;\n",
              "    }\n",
              "\n",
              "    .colab-df-convert:hover {\n",
              "      background-color: #E2EBFA;\n",
              "      box-shadow: 0px 1px 2px rgba(60, 64, 67, 0.3), 0px 1px 3px 1px rgba(60, 64, 67, 0.15);\n",
              "      fill: #174EA6;\n",
              "    }\n",
              "\n",
              "    [theme=dark] .colab-df-convert {\n",
              "      background-color: #3B4455;\n",
              "      fill: #D2E3FC;\n",
              "    }\n",
              "\n",
              "    [theme=dark] .colab-df-convert:hover {\n",
              "      background-color: #434B5C;\n",
              "      box-shadow: 0px 1px 3px 1px rgba(0, 0, 0, 0.15);\n",
              "      filter: drop-shadow(0px 1px 2px rgba(0, 0, 0, 0.3));\n",
              "      fill: #FFFFFF;\n",
              "    }\n",
              "  </style>\n",
              "\n",
              "      <script>\n",
              "        const buttonEl =\n",
              "          document.querySelector('#df-704e7c33-303f-4a12-8b87-cd1520aaac66 button.colab-df-convert');\n",
              "        buttonEl.style.display =\n",
              "          google.colab.kernel.accessAllowed ? 'block' : 'none';\n",
              "\n",
              "        async function convertToInteractive(key) {\n",
              "          const element = document.querySelector('#df-704e7c33-303f-4a12-8b87-cd1520aaac66');\n",
              "          const dataTable =\n",
              "            await google.colab.kernel.invokeFunction('convertToInteractive',\n",
              "                                                     [key], {});\n",
              "          if (!dataTable) return;\n",
              "\n",
              "          const docLinkHtml = 'Like what you see? Visit the ' +\n",
              "            '<a target=\"_blank\" href=https://colab.research.google.com/notebooks/data_table.ipynb>data table notebook</a>'\n",
              "            + ' to learn more about interactive tables.';\n",
              "          element.innerHTML = '';\n",
              "          dataTable['output_type'] = 'display_data';\n",
              "          await google.colab.output.renderOutput(dataTable, element);\n",
              "          const docLink = document.createElement('div');\n",
              "          docLink.innerHTML = docLinkHtml;\n",
              "          element.appendChild(docLink);\n",
              "        }\n",
              "      </script>\n",
              "    </div>\n",
              "  </div>\n",
              "  "
            ],
            "text/plain": [
              "  participants time            sentence\n",
              "1          멘토1               여러분 들어왔어요.\n",
              "2          멘토1                   안녕하세요.\n",
              "3          멘티1                   잘 들려요.\n",
              "4          멘토1       잘 들려요. 얼굴 좀 보여주실래요\n",
              "5          멘토1            카메라는 켜면 좋긴 한데"
            ]
          },
          "metadata": {},
          "execution_count": 59
        }
      ]
    },
    {
      "cell_type": "code",
      "source": [
        "def mecabTest_wordcloud_with_style(textFile, processed):\n",
        "    \n",
        "    tagger = Mecab()\n",
        "    \n",
        "    text = ''\n",
        "    nountext = ''\n",
        "    for idx, row in processed.iterrows():\n",
        "        text += row['sentence']\n",
        "    \n",
        "    token = tagger.pos(text)\n",
        "        \n",
        "    for word, typed in token:\n",
        "        if typed in ['NNG', 'NNP', 'NNB', 'NR']:\n",
        "            if word in ['것', '수', '거', '때문']:\n",
        "                continue\n",
        "            else:\n",
        "                nountext += (' '+word+' ')\n",
        "\n",
        "    f = open(r'/content/tmp.txt', 'w')\n",
        "    f.write(nountext)\n",
        "    f.close()\n",
        "    \n",
        "    # 이 부분만 수정 #<i class=\"fas fa-landmark\"></i>\n",
        "    stylecloud.gen_stylecloud(file_path = '/content/tmp.txt', icon_name=\"fab fa-adn\", \n",
        "                              colors=\"black\", \n",
        "                              background_color=\"white\", gradient=\"horizontal\",\n",
        "                              font_family='NanumBarunGothic' ,\n",
        "                              output_name=f'/content/{textFile[:-4]}_wordcloud_with_style.png')\n",
        "mecabTest_wordcloud_with_style(teamList[i], tmpDf)"
      ],
      "metadata": {
        "colab": {
          "base_uri": "https://localhost:8080/",
          "height": 209
        },
        "id": "YgEnOSGw18h-",
        "outputId": "beb0af7a-cb08-4936-fa3d-c9881d7c3491"
      },
      "execution_count": 83,
      "outputs": [
        {
          "output_type": "error",
          "ename": "NameError",
          "evalue": "ignored",
          "traceback": [
            "\u001b[0;31m---------------------------------------------------------------------------\u001b[0m",
            "\u001b[0;31mNameError\u001b[0m                                 Traceback (most recent call last)",
            "\u001b[0;32m<ipython-input-83-23afa51fa722>\u001b[0m in \u001b[0;36m<module>\u001b[0;34m()\u001b[0m\n\u001b[1;32m     27\u001b[0m                               \u001b[0mfont_family\u001b[0m\u001b[0;34m=\u001b[0m\u001b[0;34m'NanumBarunGothic'\u001b[0m \u001b[0;34m,\u001b[0m\u001b[0;34m\u001b[0m\u001b[0;34m\u001b[0m\u001b[0m\n\u001b[1;32m     28\u001b[0m                               output_name=f'/content/{textFile[:-4]}_wordcloud_with_style.png')\n\u001b[0;32m---> 29\u001b[0;31m \u001b[0mmecabTest_wordcloud_with_style\u001b[0m\u001b[0;34m(\u001b[0m\u001b[0mteamList\u001b[0m\u001b[0;34m[\u001b[0m\u001b[0mi\u001b[0m\u001b[0;34m]\u001b[0m\u001b[0;34m,\u001b[0m \u001b[0mtmpDf\u001b[0m\u001b[0;34m)\u001b[0m\u001b[0;34m\u001b[0m\u001b[0;34m\u001b[0m\u001b[0m\n\u001b[0m",
            "\u001b[0;31mNameError\u001b[0m: name 'teamList' is not defined"
          ]
        }
      ]
    },
    {
      "cell_type": "code",
      "source": [
        "!pip install --upgrade --user matplotlib"
      ],
      "metadata": {
        "colab": {
          "base_uri": "https://localhost:8080/",
          "height": 489
        },
        "id": "RHlCXUoQvphh",
        "outputId": "27245de9-926d-429a-ed37-89fb57b2ce8c"
      },
      "execution_count": 37,
      "outputs": [
        {
          "output_type": "stream",
          "name": "stdout",
          "text": [
            "Requirement already satisfied: matplotlib in /usr/local/lib/python3.7/dist-packages (3.2.2)\n",
            "Collecting matplotlib\n",
            "  Downloading matplotlib-3.5.1-cp37-cp37m-manylinux_2_5_x86_64.manylinux1_x86_64.whl (11.2 MB)\n",
            "\u001b[K     |████████████████████████████████| 11.2 MB 28.4 MB/s \n",
            "\u001b[?25hRequirement already satisfied: pillow>=6.2.0 in /usr/local/lib/python3.7/dist-packages (from matplotlib) (7.1.2)\n",
            "Requirement already satisfied: kiwisolver>=1.0.1 in /usr/local/lib/python3.7/dist-packages (from matplotlib) (1.3.2)\n",
            "Requirement already satisfied: packaging>=20.0 in /usr/local/lib/python3.7/dist-packages (from matplotlib) (21.3)\n",
            "Collecting fonttools>=4.22.0\n",
            "  Downloading fonttools-4.28.5-py3-none-any.whl (890 kB)\n",
            "\u001b[K     |████████████████████████████████| 890 kB 52.8 MB/s \n",
            "\u001b[?25hRequirement already satisfied: numpy>=1.17 in /usr/local/lib/python3.7/dist-packages (from matplotlib) (1.19.5)\n",
            "Requirement already satisfied: cycler>=0.10 in /usr/local/lib/python3.7/dist-packages (from matplotlib) (0.11.0)\n",
            "Requirement already satisfied: python-dateutil>=2.7 in /usr/local/lib/python3.7/dist-packages (from matplotlib) (2.8.2)\n",
            "Requirement already satisfied: pyparsing>=2.2.1 in /usr/local/lib/python3.7/dist-packages (from matplotlib) (3.0.6)\n",
            "Requirement already satisfied: six>=1.5 in /usr/local/lib/python3.7/dist-packages (from python-dateutil>=2.7->matplotlib) (1.15.0)\n",
            "Installing collected packages: fonttools, matplotlib\n",
            "\u001b[33m  WARNING: The scripts fonttools, pyftmerge, pyftsubset and ttx are installed in '/root/.local/bin' which is not on PATH.\n",
            "  Consider adding this directory to PATH or, if you prefer to suppress this warning, use --no-warn-script-location.\u001b[0m\n",
            "\u001b[31mERROR: pip's dependency resolver does not currently take into account all the packages that are installed. This behaviour is the source of the following dependency conflicts.\n",
            "albumentations 0.1.12 requires imgaug<0.2.7,>=0.2.5, but you have imgaug 0.2.9 which is incompatible.\u001b[0m\n",
            "Successfully installed fonttools-4.28.5 matplotlib-3.5.1\n"
          ]
        },
        {
          "output_type": "display_data",
          "data": {
            "application/vnd.colab-display-data+json": {
              "pip_warning": {
                "packages": [
                  "matplotlib",
                  "mpl_toolkits"
                ]
              }
            }
          },
          "metadata": {}
        }
      ]
    },
    {
      "cell_type": "code",
      "source": [
        "# 한글 폰트 설정\n",
        "# 멘토 멘티 비율 확인\n",
        "# index 추가하기 : \n",
        "\n",
        "#analysis_all_in_one(weekFile, participants)\n",
        "def amountPer(weekFile, week):\n",
        "    portion = pd.DataFrame(columns=['멘토', '멘티'])\n",
        "    for j in range(len(weekFile)):\n",
        "      processed = basic_preprocessing_test(weekFile[j], participants[j])\n",
        "\n",
        "      # 참가자를 멘토와 멘티로 분리\n",
        "      amount= processed.groupby('participants').count()\n",
        "      amount['participants'] = amount.index\n",
        "      amount = amount.drop(['participants', 'time'], axis='columns')\n",
        "      mentor = 0\n",
        "      menti = 0\n",
        "\n",
        "      # 멘티와 멘토의 발화량 계산\n",
        "      print(portion)\n",
        "      for i, row in amount.iterrows():\n",
        "        if i[:2] == '멘토':\n",
        "          mentor += row['sentence']\n",
        "        else:\n",
        "          menti += row['sentence']\n",
        "\n",
        "      # 조별 비교를 위해 portion DataFrame에 row 대표 이름 추가\n",
        "      portion.loc[f'{participants[j][0]}_{j}'] = ([mentor, menti])\n",
        "      print([mentor, menti])\n",
        "\n",
        "    print(portion)\n",
        "\n",
        "    # visualize\n",
        "    for i in range(len(weekFile)):\n",
        "      Menmax = portion.loc[:,['멘토']].max(axis=0)\n",
        "      Timax = portion.loc[:,['멘티']].max(axis=0)\n",
        "      Menti_color = ['gray'] * len(weekFile)\n",
        "      Mentor_color = ['black'] * len(weekFile)\n",
        "      Menti_color[i] = 'blue'\n",
        "      Mentor_color[i] = 'black'\n",
        "      plt.rc('font', family='NanumBarunGothic')\n",
        "      plt.bar(range(len(weekFile)), portion['멘티'], color = Mentor_color)\n",
        "      plt.bar(range(len(weekFile)), portion['멘토'], bottom=portion['멘티'], color=Menti_color)\n",
        "      plt.title(\"발화량\")\n",
        "      plt.xlabel(f\"{week} 주차\")\n",
        "      plt.legend(('멘티','멘토'))\n",
        "      plt.show()\n",
        "\n",
        "amountPer(weekFile, 2)"
      ],
      "metadata": {
        "colab": {
          "base_uri": "https://localhost:8080/",
          "height": 1000
        },
        "id": "4DdvP1Q42FbY",
        "outputId": "1fb52e30-5d52-46dd-a3b7-157b94c56742"
      },
      "execution_count": 85,
      "outputs": [
        {
          "output_type": "stream",
          "name": "stdout",
          "text": [
            "Empty DataFrame\n",
            "Columns: [멘토, 멘티]\n",
            "Index: []\n",
            "[321, 150]\n",
            "        멘토   멘티\n",
            "멘토1_0  321  150\n",
            "[0, 256]\n",
            "         멘토   멘티\n",
            "멘토1_0   321  150\n",
            "멘토 1_1    0  256\n",
            "[0, 236]\n",
            "         멘토   멘티\n",
            "멘토1_0   321  150\n",
            "멘토 1_1    0  256\n",
            "멘토_2      0  236\n",
            "[0, 74]\n",
            "         멘토   멘티\n",
            "멘토1_0   321  150\n",
            "멘토 1_1    0  256\n",
            "멘토_2      0  236\n",
            "멘토_3      0   74\n",
            "[177, 113]\n",
            "         멘토   멘티\n",
            "멘토1_0   321  150\n",
            "멘토 1_1    0  256\n",
            "멘토_2      0  236\n",
            "멘토_3      0   74\n",
            "멘토1_4   177  113\n",
            "[121, 170]\n",
            "         멘토   멘티\n",
            "멘토1_0   321  150\n",
            "멘토 1_1    0  256\n",
            "멘토_2      0  236\n",
            "멘토_3      0   74\n",
            "멘토1_4   177  113\n",
            "멘토1_5   121  170\n",
            "[481, 289]\n",
            "         멘토   멘티\n",
            "멘토1_0   321  150\n",
            "멘토 1_1    0  256\n",
            "멘토_2      0  236\n",
            "멘토_3      0   74\n",
            "멘토1_4   177  113\n",
            "멘토1_5   121  170\n",
            "멘토 1_6  481  289\n",
            "[289, 253]\n",
            "         멘토   멘티\n",
            "멘토1_0   321  150\n",
            "멘토 1_1    0  256\n",
            "멘토_2      0  236\n",
            "멘토_3      0   74\n",
            "멘토1_4   177  113\n",
            "멘토1_5   121  170\n",
            "멘토 1_6  481  289\n",
            "멘토 1_7  289  253\n",
            "[0, 247]\n",
            "         멘토   멘티\n",
            "멘토1_0   321  150\n",
            "멘토 1_1    0  256\n",
            "멘토_2      0  236\n",
            "멘토_3      0   74\n",
            "멘토1_4   177  113\n",
            "멘토1_5   121  170\n",
            "멘토 1_6  481  289\n",
            "멘토 1_7  289  253\n",
            "멘토_8      0  247\n"
          ]
        },
        {
          "output_type": "display_data",
          "data": {
            "image/png": "[encoded data removed]",
            "text/plain": [
              "<Figure size 432x288 with 1 Axes>"
            ]
          },
          "metadata": {
            "needs_background": "light"
          }
        },
        {
          "output_type": "display_data",
          "data": {
            "image/png": "[encoded data removed]",
            "text/plain": [
              "<Figure size 432x288 with 1 Axes>"
            ]
          },
          "metadata": {
            "needs_background": "light"
          }
        },
        {
          "output_type": "display_data",
          "data": {
            "image/png": "[encoded data removed]",
            "text/plain": [
              "<Figure size 432x288 with 1 Axes>"
            ]
          },
          "metadata": {
            "needs_background": "light"
          }
        },
        {
          "output_type": "display_data",
          "data": {
            "image/png": "[encoded data removed]",
            "text/plain": [
              "<Figure size 432x288 with 1 Axes>"
            ]
          },
          "metadata": {
            "needs_background": "light"
          }
        },
        {
          "output_type": "display_data",
          "data": {
            "image/png": "[encoded data removed]",
            "text/plain": [
              "<Figure size 432x288 with 1 Axes>"
            ]
          },
          "metadata": {
            "needs_background": "light"
          }
        },
        {
          "output_type": "display_data",
          "data": {
            "image/png": "[encoded data removed]",
            "text/plain": [
              "<Figure size 432x288 with 1 Axes>"
            ]
          },
          "metadata": {
            "needs_background": "light"
          }
        },
        {
          "output_type": "display_data",
          "data": {
            "image/png": "[encoded data removed]",
            "text/plain": [
              "<Figure size 432x288 with 1 Axes>"
            ]
          },
          "metadata": {
            "needs_background": "light"
          }
        },
        {
          "output_type": "display_data",
          "data": {
            "image/png": "[encoded data removed]",
            "text/plain": [
              "<Figure size 432x288 with 1 Axes>"
            ]
          },
          "metadata": {
            "needs_background": "light"
          }
        },
        {
          "output_type": "display_data",
          "data": {
            "image/png": "[encoded data removed]",
            "text/plain": [
              "<Figure size 432x288 with 1 Axes>"
            ]
          },
          "metadata": {
            "needs_background": "light"
          }
        }
      ]
    },
    {
      "cell_type": "code",
      "source": [
        ""
      ],
      "metadata": {
        "id": "lryqWw8adlhZ"
      },
      "execution_count": null,
      "outputs": []
    }
  ]
}